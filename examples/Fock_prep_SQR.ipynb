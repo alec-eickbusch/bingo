{
 "cells": [
  {
   "cell_type": "code",
   "execution_count": 58,
   "metadata": {
    "tags": []
   },
   "outputs": [
    {
     "name": "stdout",
     "output_type": "stream",
     "text": [
      "The autoreload extension is already loaded. To reload it, use:\n",
      "  %reload_ext autoreload\n"
     ]
    }
   ],
   "source": [
    "%load_ext autoreload\n",
    "%autoreload 2\n",
    "%matplotlib inline\n",
    "%config InlineBackend.figure_format = 'retina'\n",
    "\n",
    "import numpy as np\n",
    "import qutip as qt \n",
    "from bingo.optimizer.tf_adam_optimizer import AdamOptimizer\n",
    "from bingo.gate_sets import SQRDispGateSet\n",
    "from bingo.optimizer.GateSynthesizer import GateSynthesizer\n",
    "import matplotlib.pyplot as plt\n",
    "from tensorflow.python.client import device_lib\n",
    "# device_lib.list_local_devices()"
   ]
  },
  {
   "cell_type": "code",
   "execution_count": 59,
   "metadata": {},
   "outputs": [],
   "source": [
    "#Optimization of ECD Circuit parameters (betas, phis, and thetas)\n",
    "N = 20\n",
    "# We initialize the ECDGateSet here\n",
    "gate_set_params = {\n",
    "    'N_cav' : N,\n",
    "    'alpha_scale' : 1.0, #maximum |beta| for random initialization  \n",
    "    'N_SQR':6\n",
    "}\n",
    "gate_set = SQRDispGateSet(**gate_set_params)"
   ]
  },
  {
   "cell_type": "code",
   "execution_count": 60,
   "metadata": {},
   "outputs": [],
   "source": [
    "#The target oscillator state.\n",
    "fock = 1\n",
    "psi_t = qt.basis(N,fock) #target state"
   ]
  },
  {
   "cell_type": "code",
   "execution_count": 61,
   "metadata": {},
   "outputs": [],
   "source": [
    "#the optimization options\n",
    "synth_params = {\n",
    "    'gateset' : gate_set,\n",
    "    'N_blocks':6,\n",
    "    'N_multistart' : 100, #Batch size (number of circuit optimizations to run in parallel)\n",
    "    'epochs' : 100, #number of epochs before termination\n",
    "    'epoch_size' : 10, #number of adam steps per epoch\n",
    "    'learning_rate' : 0.01, #adam learning rate\n",
    "    'term_fid' : 0.995, #terminal fidelitiy\n",
    "    'dfid_stop' : 1e-6, #stop if dfid between two epochs is smaller than this number\n",
    "    'beta_scale' : 3.0, #maximum |beta| for random initialization\n",
    "    'initial_states' : [qt.tensor(qt.basis(2,0),qt.basis(N,0))], #qubit tensor oscillator, start in |g> |0>\n",
    "    'target_states' : [qt.tensor(qt.basis(2,0), psi_t)], #end in |e> |target>.\n",
    "    'name' : 'Fock %d' % fock, #name for printing and saving\n",
    "    'filename' : None, #if no filename specified, results will be saved in this folder under 'name.h5'\n",
    "}\n",
    "gatesynth = GateSynthesizer(**synth_params)"
   ]
  },
  {
   "cell_type": "code",
   "execution_count": 62,
   "metadata": {},
   "outputs": [
    {
     "data": {
      "text/plain": [
       "TensorShape([1, 40, 40])"
      ]
     },
     "execution_count": 62,
     "metadata": {},
     "output_type": "execute_result"
    }
   ],
   "source": [
    "import tensorflow as tf\n",
    "d = gate_set.disp_op(tf.constant([1.0]))\n",
    "d.shape"
   ]
  },
  {
   "cell_type": "code",
   "execution_count": 63,
   "metadata": {},
   "outputs": [
    {
     "name": "stdout",
     "output_type": "stream",
     "text": [
      "N_blocks: 6\n",
      "optimization_type: state transfer\n",
      "optimization_masks: {'alphas_rho': None, 'alphas_angle': None, 'phis': None, 'thetas': None}\n",
      "target_unitary: None\n",
      "expectation_operators: None\n",
      "target_expectation_values: None\n",
      "N_multistart: 100\n",
      "term_fid: 0.995\n",
      "dfid_stop: 1e-06\n",
      "learning_rate: 0.01\n",
      "epoch_size: 10\n",
      "epochs: 100\n",
      "name: Fock 1\n",
      "filename: None\n",
      "comment: \n",
      "coherent: False\n",
      "timestamps: []\n",
      "do_prints: True\n",
      "beta_scale: 3.0\n",
      "filename: Fock 1.h5\n",
      "\n",
      "Best circuit parameters found:\n",
      "alphas:    tf.Tensor(\n",
      "[ 0.69911+0.35832j  0.45899-0.45742j -0.05138+0.10999j -0.2112 -0.60446j\n",
      "  0.02982-0.32038j -0.28874+0.36537j], shape=(6,), dtype=complex64)\n",
      "thetas:    tf.Tensor(\n",
      "[[-0.57501  2.70112 -0.07561  2.04564  1.98323 -0.8194 ]\n",
      " [-1.79168 -0.78984 -1.51515  2.82474  0.87189 -1.95746]\n",
      " [ 0.34715 -0.54948 -2.9647   0.35737  1.73333  1.02782]\n",
      " [-2.58431  2.91533  1.85143  0.07756 -3.10732 -0.41288]\n",
      " [ 2.21524  2.97483  0.04597  0.08439 -1.70672 -1.24125]\n",
      " [ 2.03427  1.1978  -2.91236  0.25356  0.12525  1.0701 ]], shape=(6, 6), dtype=float32)\n",
      "phis:    tf.Tensor(\n",
      "[[ 0.31331  2.87732  1.28618  1.8859  -0.1087   2.94208]\n",
      " [-1.00332 -1.36176  0.5774   2.2025  -0.70808  2.68124]\n",
      " [-0.76301 -0.80281  2.30425 -0.90725 -3.13991 -2.75734]\n",
      " [ 1.56226  0.81116 -1.08992  2.59667 -0.48481 -2.85112]\n",
      " [-1.50402 -0.02834  0.57366 -0.59059 -1.72014 -0.29004]\n",
      " [ 2.79717  0.83019  1.5247   0.92574 -0.16176 -1.43759]], shape=(6, 6), dtype=float32)\n",
      "\n",
      " Best circuit Fidelity: 0.535373\n",
      "\n",
      "\n"
     ]
    }
   ],
   "source": [
    "#create optimization object. \n",
    "#initial params will be randomized upon creation\n",
    "opt = AdamOptimizer(gatesynth)\n",
    "\n",
    "#print optimization info. this lives in gatesynth, since we eventually want to fully abstract away the optimizer\n",
    "gatesynth.print_info()"
   ]
  },
  {
   "cell_type": "code",
   "execution_count": 64,
   "metadata": {},
   "outputs": [
    {
     "name": "stdout",
     "output_type": "stream",
     "text": [
      "Start time: 2022-09-15 21:54:06\n",
      " Epoch: 5 / 100 Max Fid: 0.998755 Avg Fid: 0.946864 Max dFid: 0.175968 Avg dFid: 0.061223 Elapsed time: 0:00:06.721642 Expected remaining time: 0:02:07.711207 (real part)\n",
      "\n",
      " Optimization stopped. Term fidelity reached.\n",
      "\n",
      "N_blocks: 6\n",
      "optimization_type: state transfer\n",
      "optimization_masks: {'alphas_rho': None, 'alphas_angle': None, 'phis': None, 'thetas': None}\n",
      "target_unitary: None\n",
      "expectation_operators: None\n",
      "target_expectation_values: None\n",
      "N_multistart: 100\n",
      "term_fid: 0.995\n",
      "dfid_stop: 1e-06\n",
      "learning_rate: 0.01\n",
      "epoch_size: 10\n",
      "epochs: 100\n",
      "name: Fock 1\n",
      "filename: None\n",
      "comment: \n",
      "coherent: False\n",
      "timestamps: ['2022-09-15 21:54:06']\n",
      "do_prints: True\n",
      "beta_scale: 3.0\n",
      "filename: Fock 1.h5\n",
      "\n",
      "Best circuit parameters found:\n",
      "alphas:    tf.Tensor(\n",
      "[ 0.05826-0.4819j  -0.58682+0.08445j  0.18592+0.05559j -0.41406+0.15034j\n",
      " -0.00075-0.00028j  0.06081+0.29333j], shape=(6,), dtype=complex64)\n",
      "thetas:    tf.Tensor(\n",
      "[[-1.11739  2.40045 -2.24229 -0.52544  1.21876  1.66286]\n",
      " [-2.95772  0.05805 -1.32944 -0.0809  -1.66454 -0.38528]\n",
      " [-2.22974 -2.31129 -1.81861 -2.82397  1.8634   0.07243]\n",
      " [ 1.0906   0.90711  1.90518  2.83714  3.01226 -2.18046]\n",
      " [-1.85658  2.64228 -2.77245 -1.17494 -1.85262  1.30891]\n",
      " [-2.38091 -2.70442  2.98669  1.85866 -0.34946 -2.28674]], shape=(6, 6), dtype=float32)\n",
      "phis:    tf.Tensor(\n",
      "[[ 1.23993  1.61795 -0.90847 -0.19095 -2.66078  1.54283]\n",
      " [-0.57883  2.9727   0.49978 -1.03553  1.03647 -1.18821]\n",
      " [-1.64307  2.10994  0.10859 -2.51526 -0.61776  0.28439]\n",
      " [ 1.67337  0.90973  0.29699 -2.20612 -1.39349  2.82374]\n",
      " [ 0.66815  1.38179 -0.51034 -1.82992  1.52085  1.76322]\n",
      " [-0.22312  2.21065 -0.62848 -1.18954 -1.35744 -2.74962]], shape=(6, 6), dtype=float32)\n",
      "\n",
      " Best circuit Fidelity: 0.999011\n",
      "\n",
      "\n",
      "all data saved as: Fock 1.h5\n",
      "termination reason: term_fid\n",
      "optimization timestamp (start time): 2022-09-15 21:54:06\n",
      "timestamp (end time): 2022-09-15 21:54:12\n",
      "elapsed time: 0:00:06.728110\n",
      "Time per epoch (epoch size = 10): 0:00:01.345622\n",
      "Time per Adam step (N_multistart = 100): 0:00:00.013456\n",
      "\n",
      "============================================================\n",
      "\n"
     ]
    },
    {
     "data": {
      "text/plain": [
       "'2022-09-15 21:54:06'"
      ]
     },
     "execution_count": 64,
     "metadata": {},
     "output_type": "execute_result"
    }
   ],
   "source": [
    "#run optimizer.\n",
    "#note the optimizer can be stopped at any time by interrupting the python consle,\n",
    "#and the optimization results will still be saved and part of the opt object.\n",
    "#This allows you to stop the optimization whenever you want and still use the result.\n",
    "opt.optimize()"
   ]
  },
  {
   "cell_type": "code",
   "execution_count": null,
   "metadata": {},
   "outputs": [],
   "source": [
    "#can print info, including the best circuit found.\n",
    "gatesynth.print_info() "
   ]
  },
  {
   "cell_type": "code",
   "execution_count": null,
   "metadata": {},
   "outputs": [],
   "source": [
    "print(gatesynth.best_fidelity())"
   ]
  },
  {
   "cell_type": "code",
   "execution_count": null,
   "metadata": {},
   "outputs": [],
   "source": [
    "#can also get the best circuit parameters directly, could save this to a .npz file.\n",
    "best_circuit =  gatesynth.best_circuit()\n",
    "betas = best_circuit['betas']\n",
    "phis = best_circuit['phis']\n",
    "thetas = best_circuit['thetas']\n",
    "print(best_circuit)"
   ]
  }
 ],
 "metadata": {
  "kernelspec": {
   "display_name": "Python 3.8.10 64-bit",
   "language": "python",
   "name": "python3"
  },
  "language_info": {
   "codemirror_mode": {
    "name": "ipython",
    "version": 3
   },
   "file_extension": ".py",
   "mimetype": "text/x-python",
   "name": "python",
   "nbconvert_exporter": "python",
   "pygments_lexer": "ipython3",
   "version": "3.8.10"
  },
  "vscode": {
   "interpreter": {
    "hash": "e7370f93d1d0cde622a1f8e1c04877d8463912d04d973331ad4851f04de6915a"
   }
  }
 },
 "nbformat": 4,
 "nbformat_minor": 4
}
