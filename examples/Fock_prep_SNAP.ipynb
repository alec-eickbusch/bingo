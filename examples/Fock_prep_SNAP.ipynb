{
 "cells": [
  {
   "cell_type": "code",
   "execution_count": 1,
   "metadata": {
    "tags": []
   },
   "outputs": [
    {
     "name": "stdout",
     "output_type": "stream",
     "text": [
      "\n",
      "Need tf version 2.3.0 or later. Using tensorflow version: 2.7.0\n",
      "\n"
     ]
    }
   ],
   "source": [
    "%load_ext autoreload\n",
    "%autoreload 2\n",
    "%matplotlib inline\n",
    "%config InlineBackend.figure_format = 'retina'\n",
    "\n",
    "# import os\n",
    "# os.environ[\"TF_GPU_ALLOCATOR\"]=\"cuda_malloc_async\" # this is highly important for totally utilizing your GPU's memory, but it also breaks the profiler's memory breakdown\n",
    "\n",
    "import numpy as np\n",
    "import qutip as qt \n",
    "from bingo.optimizer.tf_adam_optimizer import AdamOptimizer\n",
    "from bingo.gate_sets import SNAP\n",
    "from bingo.optimizer.GateSynthesizer import GateSynthesizer\n",
    "import matplotlib.pyplot as plt"
   ]
  },
  {
   "cell_type": "code",
   "execution_count": 2,
   "metadata": {},
   "outputs": [
    {
     "name": "stderr",
     "output_type": "stream",
     "text": [
      "2022-09-16 18:49:20.360549: I tensorflow/stream_executor/cuda/cuda_gpu_executor.cc:1038] could not open file to read NUMA node: /sys/bus/pci/devices/0000:01:00.0/numa_node\n",
      "Your kernel may have been built without NUMA support.\n",
      "2022-09-16 18:49:20.387431: I tensorflow/stream_executor/cuda/cuda_gpu_executor.cc:1038] could not open file to read NUMA node: /sys/bus/pci/devices/0000:01:00.0/numa_node\n",
      "Your kernel may have been built without NUMA support.\n",
      "2022-09-16 18:49:20.387677: I tensorflow/stream_executor/cuda/cuda_gpu_executor.cc:1038] could not open file to read NUMA node: /sys/bus/pci/devices/0000:01:00.0/numa_node\n",
      "Your kernel may have been built without NUMA support.\n",
      "2022-09-16 18:49:20.395889: I tensorflow/stream_executor/cuda/cuda_gpu_executor.cc:1038] could not open file to read NUMA node: /sys/bus/pci/devices/0000:01:00.0/numa_node\n",
      "Your kernel may have been built without NUMA support.\n",
      "2022-09-16 18:49:20.396151: I tensorflow/stream_executor/cuda/cuda_gpu_executor.cc:1038] could not open file to read NUMA node: /sys/bus/pci/devices/0000:01:00.0/numa_node\n",
      "Your kernel may have been built without NUMA support.\n",
      "2022-09-16 18:49:20.396359: I tensorflow/stream_executor/cuda/cuda_gpu_executor.cc:1038] could not open file to read NUMA node: /sys/bus/pci/devices/0000:01:00.0/numa_node\n",
      "Your kernel may have been built without NUMA support.\n",
      "2022-09-16 18:49:20.742388: I tensorflow/stream_executor/cuda/cuda_gpu_executor.cc:1038] could not open file to read NUMA node: /sys/bus/pci/devices/0000:01:00.0/numa_node\n",
      "Your kernel may have been built without NUMA support.\n",
      "2022-09-16 18:49:20.742816: I tensorflow/stream_executor/cuda/cuda_gpu_executor.cc:1038] could not open file to read NUMA node: /sys/bus/pci/devices/0000:01:00.0/numa_node\n",
      "Your kernel may have been built without NUMA support.\n",
      "2022-09-16 18:49:20.742834: I tensorflow/core/common_runtime/gpu/gpu_device.cc:1609] Could not identify NUMA node of platform GPU id 0, defaulting to 0.  Your kernel may not have been built with NUMA support.\n",
      "2022-09-16 18:49:20.743093: I tensorflow/stream_executor/cuda/cuda_gpu_executor.cc:1038] could not open file to read NUMA node: /sys/bus/pci/devices/0000:01:00.0/numa_node\n",
      "Your kernel may have been built without NUMA support.\n",
      "2022-09-16 18:49:20.743138: I tensorflow/core/common_runtime/gpu/gpu_device.cc:1525] Created device /job:localhost/replica:0/task:0/device:GPU:0 with 21009 MB memory:  -> device: 0, name: NVIDIA GeForce RTX 3090, pci bus id: 0000:01:00.0, compute capability: 8.6\n",
      "2022-09-16 18:49:27.735747: I tensorflow/core/util/cuda_solvers.cc:179] Creating GpuSolver handles for stream 0x1ad96360\n"
     ]
    }
   ],
   "source": [
    "#Optimization of ECD Circuit parameters (betas, phis, and thetas)\n",
    "N = 40\n",
    "# We initialize the ECDGateSet here\n",
    "gate_set_params = {\n",
    "    'N_cav' : N,\n",
    "    'N_snap' : 10,\n",
    "    'beta_scale' : 3.0\n",
    "}\n",
    "SNAP_gate_set = SNAP(**gate_set_params)"
   ]
  },
  {
   "cell_type": "code",
   "execution_count": 3,
   "metadata": {},
   "outputs": [],
   "source": [
    "#The target oscillator state.\n",
    "fock = 4\n",
    "psi_t = qt.basis(N,fock) #target state"
   ]
  },
  {
   "cell_type": "code",
   "execution_count": 4,
   "metadata": {},
   "outputs": [],
   "source": [
    "#the optimization options\n",
    "synth_params = {\n",
    "    'gateset' : SNAP_gate_set,\n",
    "    'N_blocks':3,\n",
    "    'N_multistart' : 1000, #Batch size (number of circuit optimizations to run in parallel)\n",
    "    'epochs' : 100, #number of epochs before termination\n",
    "    'epoch_size' : 10, #number of adam steps per epoch\n",
    "    'learning_rate' : 0.01, #adam learning rate\n",
    "    'term_fid' : 0.995, #terminal fidelitiy\n",
    "    'dfid_stop' : 1e-6, #stop if dfid between two epochs is smaller than this number\n",
    "    'beta_scale' : 3.0, #maximum |beta| for random initialization\n",
    "    'initial_states' : [qt.basis(N,0)], #qubit tensor oscillator, start in |g> |0>\n",
    "    'target_states' : [psi_t], #end in |e> |target>.\n",
    "    'name' : 'SNAP Fock %d' % fock, #name for printing and saving\n",
    "    'filename' : None, #if no filename specified, results will be saved in this folder under 'name.h5'\n",
    "}\n",
    "gatesynth = GateSynthesizer(**synth_params)"
   ]
  },
  {
   "cell_type": "code",
   "execution_count": 5,
   "metadata": {},
   "outputs": [
    {
     "name": "stdout",
     "output_type": "stream",
     "text": [
      "N_blocks: 3\n",
      "optimization_type: state transfer\n",
      "optimization_masks: {'betas_rho': None, 'betas_angle': None, 'thetas': None}\n",
      "target_unitary: None\n",
      "expectation_operators: None\n",
      "target_expectation_values: None\n",
      "N_multistart: 1000\n",
      "term_fid: 0.995\n",
      "dfid_stop: 1e-06\n",
      "learning_rate: 0.01\n",
      "epoch_size: 10\n",
      "epochs: 100\n",
      "name: SNAP Fock 4\n",
      "filename: None\n",
      "comment: \n",
      "coherent: False\n",
      "timestamps: []\n",
      "do_prints: True\n",
      "beta_scale: 3.0\n",
      "filename: SNAP Fock 4.h5\n",
      "\n",
      "Best circuit parameters found:\n",
      "betas:    tf.Tensor([ 0.16757-0.20361j  0.08439-1.56395j -0.63772-0.27193j], shape=(3,), dtype=complex64)\n",
      "thetas:    tf.Tensor(\n",
      "[[-3.05451 -2.77744  2.81009 -0.74968  0.5672  -2.67061 -3.10376 -0.63526\n",
      "  -2.89279  1.92504]\n",
      " [ 1.03088  0.52305  0.5322   3.09841  2.77599 -0.25723  1.4873   0.53802\n",
      "   1.68362  1.99334]\n",
      " [ 0.17808  2.45483  0.90632  0.0519   1.76652  1.58502  2.56119 -1.67299\n",
      "   2.89432 -1.59513]], shape=(3, 10), dtype=float32)\n",
      "\n",
      " Best circuit Fidelity: 0.589094\n",
      "\n",
      "\n"
     ]
    }
   ],
   "source": [
    "#create optimization object. \n",
    "#initial params will be randomized upon creation\n",
    "opt = AdamOptimizer(gatesynth)\n",
    "\n",
    "#print optimization info. this lives in gatesynth, since we eventually want to fully abstract away the optimizer\n",
    "gatesynth.print_info()"
   ]
  },
  {
   "cell_type": "code",
   "execution_count": 6,
   "metadata": {},
   "outputs": [
    {
     "name": "stdout",
     "output_type": "stream",
     "text": [
      "Start time: 2022-09-16 18:52:15\n",
      " Epoch: 11 / 100 Max Fid: 0.995921 Avg Fid: 0.691235 Max dFid: 0.129073 Avg dFid: 0.023869 Elapsed time: 0:00:02.408573 Expected remaining time: 0:00:19.487546 (real part)\n",
      "\n",
      " Optimization stopped. Term fidelity reached.\n",
      "\n",
      "N_blocks: 3\n",
      "optimization_type: state transfer\n",
      "optimization_masks: {'betas_rho': None, 'betas_angle': None, 'thetas': None}\n",
      "target_unitary: None\n",
      "expectation_operators: None\n",
      "target_expectation_values: None\n",
      "N_multistart: 1000\n",
      "term_fid: 0.995\n",
      "dfid_stop: 1e-06\n",
      "learning_rate: 0.01\n",
      "epoch_size: 10\n",
      "epochs: 100\n",
      "name: SNAP Fock 4\n",
      "filename: None\n",
      "comment: \n",
      "coherent: False\n",
      "timestamps: ['2022-09-16 18:52:15']\n",
      "do_prints: True\n",
      "beta_scale: 3.0\n",
      "filename: SNAP Fock 4.h5\n",
      "\n",
      "Best circuit parameters found:\n",
      "betas:    tf.Tensor([ 1.39335-0.89213j -0.64134-0.82991j -0.28165+0.51639j], shape=(3,), dtype=complex64)\n",
      "thetas:    tf.Tensor(\n",
      "[[ 1.82228 -1.13672 -2.70646 -1.52249  1.49545 -0.37888 -1.53095 -2.16632\n",
      "  -1.69706  2.47704]\n",
      " [-1.62892 -2.70621 -2.85576  2.1404  -1.58777  1.59087 -2.01933  0.69693\n",
      "   3.00707 -1.28405]\n",
      " [ 1.12914 -2.38587  0.0219  -1.98821 -1.30007  1.26505  2.7885  -1.78838\n",
      "   0.04691  2.00402]], shape=(3, 10), dtype=float32)\n",
      "\n",
      " Best circuit Fidelity: 0.996872\n",
      "\n",
      "\n",
      "all data saved as: SNAP Fock 4.h5\n",
      "termination reason: term_fid\n",
      "optimization timestamp (start time): 2022-09-16 18:52:15\n",
      "timestamp (end time): 2022-09-16 18:52:18\n",
      "elapsed time: 0:00:02.414731\n",
      "Time per epoch (epoch size = 10): 0:00:00.219521\n",
      "Time per Adam step (N_multistart = 1000): 0:00:00.002195\n",
      "\n",
      "============================================================\n",
      "\n"
     ]
    },
    {
     "data": {
      "text/plain": [
       "'2022-09-16 18:52:15'"
      ]
     },
     "execution_count": 6,
     "metadata": {},
     "output_type": "execute_result"
    }
   ],
   "source": [
    "#run optimizer.\n",
    "#note the optimizer can be stopped at any time by interrupting the python consle,\n",
    "#and the optimization results will still be saved and part of the opt object.\n",
    "#This allows you to stop the optimization whenever you want and still use the result.\n",
    "opt.optimize()"
   ]
  },
  {
   "cell_type": "code",
   "execution_count": 7,
   "metadata": {},
   "outputs": [
    {
     "name": "stdout",
     "output_type": "stream",
     "text": [
      "N_blocks: 3\n",
      "optimization_type: state transfer\n",
      "optimization_masks: {'betas_rho': None, 'betas_angle': None, 'thetas': None}\n",
      "target_unitary: None\n",
      "expectation_operators: None\n",
      "target_expectation_values: None\n",
      "N_multistart: 1000\n",
      "term_fid: 0.995\n",
      "dfid_stop: 1e-06\n",
      "learning_rate: 0.01\n",
      "epoch_size: 10\n",
      "epochs: 100\n",
      "name: SNAP Fock 4\n",
      "filename: None\n",
      "comment: \n",
      "coherent: False\n",
      "timestamps: ['2022-09-16 18:52:15']\n",
      "do_prints: True\n",
      "beta_scale: 3.0\n",
      "filename: SNAP Fock 4.h5\n",
      "\n",
      "Best circuit parameters found:\n",
      "betas:    tf.Tensor([ 1.39335-0.89213j -0.64134-0.82991j -0.28165+0.51639j], shape=(3,), dtype=complex64)\n",
      "thetas:    tf.Tensor(\n",
      "[[ 1.82228 -1.13672 -2.70646 -1.52249  1.49545 -0.37888 -1.53095 -2.16632\n",
      "  -1.69706  2.47704]\n",
      " [-1.62892 -2.70621 -2.85576  2.1404  -1.58777  1.59087 -2.01933  0.69693\n",
      "   3.00707 -1.28405]\n",
      " [ 1.12914 -2.38587  0.0219  -1.98821 -1.30007  1.26505  2.7885  -1.78838\n",
      "   0.04691  2.00402]], shape=(3, 10), dtype=float32)\n",
      "\n",
      " Best circuit Fidelity: 0.996872\n",
      "\n",
      "\n"
     ]
    }
   ],
   "source": [
    "#can print info, including the best circuit found.\n",
    "gatesynth.print_info() "
   ]
  },
  {
   "cell_type": "code",
   "execution_count": null,
   "metadata": {},
   "outputs": [],
   "source": [
    "print(gatesynth.best_fidelity())"
   ]
  },
  {
   "cell_type": "code",
   "execution_count": null,
   "metadata": {},
   "outputs": [],
   "source": [
    "#can also get the best circuit parameters directly, could save this to a .npz file.\n",
    "best_circuit =  gatesynth.best_circuit()\n",
    "betas = best_circuit['betas']\n",
    "thetas = best_circuit['thetas']\n",
    "print(best_circuit)"
   ]
  },
  {
   "cell_type": "code",
   "execution_count": null,
   "metadata": {},
   "outputs": [],
   "source": [
    "# Load the TensorBoard notebook extension.\n",
    "%load_ext tensorboard"
   ]
  },
  {
   "cell_type": "code",
   "execution_count": null,
   "metadata": {},
   "outputs": [],
   "source": [
    "# Launch TensorBoard and navigate to the Profile tab to view performance profile\n",
    "%tensorboard --logdir=logs"
   ]
  },
  {
   "cell_type": "code",
   "execution_count": null,
   "metadata": {},
   "outputs": [],
   "source": []
  }
 ],
 "metadata": {
  "interpreter": {
   "hash": "e7370f93d1d0cde622a1f8e1c04877d8463912d04d973331ad4851f04de6915a"
  },
  "kernelspec": {
   "display_name": "Python 3.8.10 64-bit",
   "language": "python",
   "name": "python3"
  },
  "language_info": {
   "codemirror_mode": {
    "name": "ipython",
    "version": 3
   },
   "file_extension": ".py",
   "mimetype": "text/x-python",
   "name": "python",
   "nbconvert_exporter": "python",
   "pygments_lexer": "ipython3",
   "version": "3.8.10"
  },
  "vscode": {
   "interpreter": {
    "hash": "916dbcbb3f70747c44a77c7bcd40155683ae19c65e1c03b4aa3499c5328201f1"
   }
  }
 },
 "nbformat": 4,
 "nbformat_minor": 4
}
