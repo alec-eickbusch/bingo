{
 "cells": [
  {
   "cell_type": "code",
   "execution_count": 2,
   "metadata": {
    "tags": []
   },
   "outputs": [
    {
     "name": "stdout",
     "output_type": "stream",
     "text": [
      "The autoreload extension is already loaded. To reload it, use:\n",
      "  %reload_ext autoreload\n"
     ]
    }
   ],
   "source": [
    "%load_ext autoreload\n",
    "%autoreload 2\n",
    "%matplotlib inline\n",
    "%config InlineBackend.figure_format = 'retina'\n",
    "\n",
    "import numpy as np\n",
    "import qutip as qt \n",
    "from bingo.optimizer.tf_adam_optimizer import AdamOptimizer\n",
    "from bingo.gate_sets import SNAPDispBSGateSet\n",
    "from bingo.optimizer.GateSynthesizer import GateSynthesizer\n",
    "import matplotlib.pyplot as plt\n",
    "from tensorflow.python.client import device_lib\n",
    "# device_lib.list_local_devices()\n",
    "import tensorflow as tf"
   ]
  },
  {
   "cell_type": "code",
   "execution_count": 4,
   "metadata": {},
   "outputs": [],
   "source": [
    "#Optimization of ECD Circuit parameters (betas, phis, and thetas)\n",
    "N = 25\n",
    "# We initialize the ECDGateSet here\n",
    "gate_set_params = {\n",
    "    'N_snap': 6,\n",
    "    'N_cav' : N,\n",
    "    'beta_scale' : 1.0, #maximum |beta| for random initialization \n",
    "    'alpha_scale': 1.0 \n",
    "}\n",
    "gate_set = SNAPDispBSGateSet(**gate_set_params)"
   ]
  },
  {
   "cell_type": "code",
   "execution_count": 5,
   "metadata": {},
   "outputs": [],
   "source": [
    "#The target oscillator state.\n",
    "fock = 1"
   ]
  },
  {
   "cell_type": "code",
   "execution_count": 9,
   "metadata": {},
   "outputs": [],
   "source": [
    "#the optimization options\n",
    "synth_params = {\n",
    "    'gateset' : gate_set,\n",
    "    'N_blocks':3,\n",
    "    'N_multistart' : 30, #Batch size (number of circuit optimizations to run in parallel)\n",
    "    'epochs' : 100, #number of epochs before termination\n",
    "    'epoch_size' : 10, #number of adam steps per epoch\n",
    "    'learning_rate' : 0.01, #adam learning rate\n",
    "    'term_fid' : 0.99, #terminal fidelitiy\n",
    "    'dfid_stop' : 1e-5, #stop if dfid between two epochs is smaller than this number\n",
    "    'initial_states' : [qt.tensor(qt.basis(N,0), qt.basis(N,0))], #qubit tensor oscillator, start in |g> |0>\n",
    "    'target_states' : [qt.tensor(qt.basis(N,fock), qt.basis(N,fock))], #|target>.\n",
    "    'name' : 'Fock %d' % fock, #name for printing and saving\n",
    "    'filename' : None, #if no filename specified, results will be saved in this folder under 'name.h5'\n",
    "    'coherent':False\n",
    "}\n",
    "gatesynth = GateSynthesizer(**synth_params)"
   ]
  },
  {
   "cell_type": "code",
   "execution_count": 10,
   "metadata": {},
   "outputs": [
    {
     "name": "stderr",
     "output_type": "stream",
     "text": [
      "2022-09-14 21:09:37.782420: I tensorflow/core/util/cuda_solvers.cc:179] Creating GpuSolver handles for stream 0x6e17020\n"
     ]
    },
    {
     "name": "stdout",
     "output_type": "stream",
     "text": [
      "N_blocks: 3\n",
      "optimization_type: state transfer\n",
      "optimization_masks: {'alphas_rho': None, 'alphas_angle': None, 'betas_rho': None, 'betas_angle': None, 'SNAP_thetas': None, 'BS_phis': None, 'BS_thetas': None}\n",
      "target_unitary: None\n",
      "expectation_operators: None\n",
      "target_expectation_values: None\n",
      "N_multistart: 30\n",
      "term_fid: 0.99\n",
      "dfid_stop: 1e-05\n",
      "learning_rate: 0.01\n",
      "epoch_size: 10\n",
      "epochs: 100\n",
      "name: Fock 1\n",
      "filename: None\n",
      "comment: \n",
      "coherent: False\n",
      "timestamps: []\n",
      "do_prints: True\n",
      "filename: Fock 1.h5\n",
      "\n",
      "Best circuit parameters found:\n",
      "alphas:    tf.Tensor([-0.11908-0.10995j -0.05424-0.01009j -0.00226+0.00325j], shape=(3,), dtype=complex64)\n",
      "betas:    tf.Tensor([-0.81613+0.45094j -0.04117-0.28139j  0.73956-0.54276j], shape=(3,), dtype=complex64)\n",
      "SNAP_thetas:    tf.Tensor(\n",
      "[[-2.52406 -2.43319  0.52586 -3.03178  2.82216 -2.73693]\n",
      " [ 2.18138 -0.07154  0.9486   0.05455 -0.93868 -0.42909]\n",
      " [ 2.97029  0.85912  0.86434 -2.84794 -1.67799 -0.47358]], shape=(3, 6), dtype=float32)\n",
      "BS_phis:    tf.Tensor([-1.70689  0.75668 -0.38223], shape=(3,), dtype=float32)\n",
      "BS_thetas:    tf.Tensor([0.80681 0.32247 0.10896], shape=(3,), dtype=float32)\n",
      "\n",
      " Best circuit Fidelity: 0.100183\n",
      "\n",
      "\n"
     ]
    }
   ],
   "source": [
    "#create optimization object. \n",
    "#initial params will be randomized upon creation\n",
    "opt = AdamOptimizer(gatesynth)\n",
    "\n",
    "#print optimization info. this lives in gatesynth, since we eventually want to fully abstract away the optimizer\n",
    "gatesynth.print_info()"
   ]
  },
  {
   "cell_type": "code",
   "execution_count": 11,
   "metadata": {},
   "outputs": [
    {
     "name": "stdout",
     "output_type": "stream",
     "text": [
      "Start time: 2022-09-14 21:09:41\n",
      " Epoch: 10 / 100 Max Fid: 0.993900 Avg Fid: 0.735203 Max dFid: 0.169293 Avg dFid: 0.041072 Elapsed time: 0:01:09.841342 Expected remaining time: 0:10:28.572076 (real part)\n",
      "\n",
      " Optimization stopped. Term fidelity reached.\n",
      "\n",
      "N_blocks: 3\n",
      "optimization_type: state transfer\n",
      "optimization_masks: {'alphas_rho': None, 'alphas_angle': None, 'betas_rho': None, 'betas_angle': None, 'SNAP_thetas': None, 'BS_phis': None, 'BS_thetas': None}\n",
      "target_unitary: None\n",
      "expectation_operators: None\n",
      "target_expectation_values: None\n",
      "N_multistart: 30\n",
      "term_fid: 0.99\n",
      "dfid_stop: 1e-05\n",
      "learning_rate: 0.01\n",
      "epoch_size: 10\n",
      "epochs: 100\n",
      "name: Fock 1\n",
      "filename: None\n",
      "comment: \n",
      "coherent: False\n",
      "timestamps: ['2022-09-14 21:09:41']\n",
      "do_prints: True\n",
      "filename: Fock 1.h5\n",
      "\n",
      "Best circuit parameters found:\n",
      "alphas:    tf.Tensor([ 0.4818 -0.6112j  -0.62704+0.88441j  0.15721-0.14647j], shape=(3,), dtype=complex64)\n",
      "betas:    tf.Tensor([-0.29269-0.30345j -0.21321-0.02248j  0.49765+0.47597j], shape=(3,), dtype=complex64)\n",
      "SNAP_thetas:    tf.Tensor(\n",
      "[[ 2.89539 -0.36044  0.08598  1.56052  0.98199 -1.21803]\n",
      " [ 3.13462  1.94719 -2.74682  1.91634  0.20266 -1.342  ]\n",
      " [ 0.36181  1.13246 -1.24795  1.91989  2.75545  2.00178]], shape=(3, 6), dtype=float32)\n",
      "BS_phis:    tf.Tensor([ 1.41333 -2.23759  1.66821], shape=(3,), dtype=float32)\n",
      "BS_thetas:    tf.Tensor([-0.00178 -0.7841  -0.39272], shape=(3,), dtype=float32)\n",
      "\n",
      " Best circuit Fidelity: 0.994383\n",
      "\n",
      "\n",
      "all data saved as: Fock 1.h5\n",
      "termination reason: term_fid\n",
      "optimization timestamp (start time): 2022-09-14 21:09:41\n",
      "timestamp (end time): 2022-09-14 21:10:51\n",
      "elapsed time: 0:01:10.049542\n",
      "Time per epoch (epoch size = 10): 0:00:07.004954\n",
      "Time per Adam step (N_multistart = 30): 0:00:00.070050\n",
      "\n",
      "============================================================\n",
      "\n"
     ]
    },
    {
     "data": {
      "text/plain": [
       "'2022-09-14 21:09:41'"
      ]
     },
     "execution_count": 11,
     "metadata": {},
     "output_type": "execute_result"
    }
   ],
   "source": [
    "#run optimizer.\n",
    "#note the optimizer can be stopped at any time by interrupting the python consle,\n",
    "#and the optimization results will still be saved and part of the opt object.\n",
    "#This allows you to stop the optimization whenever you want and still use the result.\n",
    "opt.optimize()"
   ]
  },
  {
   "cell_type": "code",
   "execution_count": 12,
   "metadata": {},
   "outputs": [
    {
     "name": "stdout",
     "output_type": "stream",
     "text": [
      "N_blocks: 3\n",
      "optimization_type: state transfer\n",
      "optimization_masks: {'alphas_rho': None, 'alphas_angle': None, 'betas_rho': None, 'betas_angle': None, 'SNAP_thetas': None, 'BS_phis': None, 'BS_thetas': None}\n",
      "target_unitary: None\n",
      "expectation_operators: None\n",
      "target_expectation_values: None\n",
      "N_multistart: 30\n",
      "term_fid: 0.99\n",
      "dfid_stop: 1e-05\n",
      "learning_rate: 0.01\n",
      "epoch_size: 10\n",
      "epochs: 100\n",
      "name: Fock 1\n",
      "filename: None\n",
      "comment: \n",
      "coherent: False\n",
      "timestamps: ['2022-09-14 21:09:41']\n",
      "do_prints: True\n",
      "filename: Fock 1.h5\n",
      "\n",
      "Best circuit parameters found:\n",
      "alphas:    tf.Tensor([ 0.4818 -0.6112j  -0.62704+0.88441j  0.15721-0.14647j], shape=(3,), dtype=complex64)\n",
      "betas:    tf.Tensor([-0.29269-0.30345j -0.21321-0.02248j  0.49765+0.47597j], shape=(3,), dtype=complex64)\n",
      "SNAP_thetas:    tf.Tensor(\n",
      "[[ 2.89539 -0.36044  0.08598  1.56052  0.98199 -1.21803]\n",
      " [ 3.13462  1.94719 -2.74682  1.91634  0.20266 -1.342  ]\n",
      " [ 0.36181  1.13246 -1.24795  1.91989  2.75545  2.00178]], shape=(3, 6), dtype=float32)\n",
      "BS_phis:    tf.Tensor([ 1.41333 -2.23759  1.66821], shape=(3,), dtype=float32)\n",
      "BS_thetas:    tf.Tensor([-0.00178 -0.7841  -0.39272], shape=(3,), dtype=float32)\n",
      "\n",
      " Best circuit Fidelity: 0.994383\n",
      "\n",
      "\n"
     ]
    }
   ],
   "source": [
    "#can print info, including the best circuit found.\n",
    "gatesynth.print_info() "
   ]
  },
  {
   "cell_type": "code",
   "execution_count": 25,
   "metadata": {},
   "outputs": [
    {
     "name": "stdout",
     "output_type": "stream",
     "text": [
      "0.963334\n"
     ]
    }
   ],
   "source": [
    "print(gatesynth.best_fidelity())"
   ]
  },
  {
   "cell_type": "code",
   "execution_count": 26,
   "metadata": {},
   "outputs": [
    {
     "ename": "KeyError",
     "evalue": "'betas'",
     "output_type": "error",
     "traceback": [
      "\u001b[0;31m---------------------------------------------------------------------------\u001b[0m",
      "\u001b[0;31mKeyError\u001b[0m                                  Traceback (most recent call last)",
      "\u001b[0;32m/tmp/ipykernel_1641/2354047859.py\u001b[0m in \u001b[0;36m<module>\u001b[0;34m\u001b[0m\n\u001b[1;32m      1\u001b[0m \u001b[0;31m#can also get the best circuit parameters directly, could save this to a .npz file.\u001b[0m\u001b[0;34m\u001b[0m\u001b[0;34m\u001b[0m\u001b[0;34m\u001b[0m\u001b[0m\n\u001b[1;32m      2\u001b[0m \u001b[0mbest_circuit\u001b[0m \u001b[0;34m=\u001b[0m  \u001b[0mgatesynth\u001b[0m\u001b[0;34m.\u001b[0m\u001b[0mbest_circuit\u001b[0m\u001b[0;34m(\u001b[0m\u001b[0;34m)\u001b[0m\u001b[0;34m\u001b[0m\u001b[0;34m\u001b[0m\u001b[0m\n\u001b[0;32m----> 3\u001b[0;31m \u001b[0mbetas\u001b[0m \u001b[0;34m=\u001b[0m \u001b[0mbest_circuit\u001b[0m\u001b[0;34m[\u001b[0m\u001b[0;34m'betas'\u001b[0m\u001b[0;34m]\u001b[0m\u001b[0;34m\u001b[0m\u001b[0;34m\u001b[0m\u001b[0m\n\u001b[0m\u001b[1;32m      4\u001b[0m \u001b[0mphis\u001b[0m \u001b[0;34m=\u001b[0m \u001b[0mbest_circuit\u001b[0m\u001b[0;34m[\u001b[0m\u001b[0;34m'phis'\u001b[0m\u001b[0;34m]\u001b[0m\u001b[0;34m\u001b[0m\u001b[0;34m\u001b[0m\u001b[0m\n\u001b[1;32m      5\u001b[0m \u001b[0mthetas\u001b[0m \u001b[0;34m=\u001b[0m \u001b[0mbest_circuit\u001b[0m\u001b[0;34m[\u001b[0m\u001b[0;34m'thetas'\u001b[0m\u001b[0;34m]\u001b[0m\u001b[0;34m\u001b[0m\u001b[0;34m\u001b[0m\u001b[0m\n",
      "\u001b[0;31mKeyError\u001b[0m: 'betas'"
     ]
    }
   ],
   "source": [
    "#can also get the best circuit parameters directly, could save this to a .npz file.\n",
    "best_circuit =  gatesynth.best_circuit()\n",
    "betas = best_circuit['betas']\n",
    "phis = best_circuit['phis']\n",
    "thetas = best_circuit['thetas']\n",
    "print(best_circuit)"
   ]
  },
  {
   "cell_type": "code",
   "execution_count": null,
   "metadata": {},
   "outputs": [],
   "source": []
  }
 ],
 "metadata": {
  "kernelspec": {
   "display_name": "Python 3.8.10 64-bit",
   "language": "python",
   "name": "python3"
  },
  "language_info": {
   "codemirror_mode": {
    "name": "ipython",
    "version": 3
   },
   "file_extension": ".py",
   "mimetype": "text/x-python",
   "name": "python",
   "nbconvert_exporter": "python",
   "pygments_lexer": "ipython3",
   "version": "3.8.10"
  },
  "vscode": {
   "interpreter": {
    "hash": "e7370f93d1d0cde622a1f8e1c04877d8463912d04d973331ad4851f04de6915a"
   }
  }
 },
 "nbformat": 4,
 "nbformat_minor": 4
}
